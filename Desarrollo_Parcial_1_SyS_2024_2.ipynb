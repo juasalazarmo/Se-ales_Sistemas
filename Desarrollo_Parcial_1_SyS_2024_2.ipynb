{
  "nbformat": 4,
  "nbformat_minor": 0,
  "metadata": {
    "colab": {
      "private_outputs": true,
      "provenance": [],
      "include_colab_link": true
    },
    "kernelspec": {
      "name": "python3",
      "display_name": "Python 3"
    },
    "language_info": {
      "name": "python"
    }
  },
  "cells": [
    {
      "cell_type": "markdown",
      "metadata": {
        "id": "view-in-github",
        "colab_type": "text"
      },
      "source": [
        "<a href=\"https://colab.research.google.com/github/juasalazarmo/Se-ales_Sistemas/blob/main/Desarrollo_Parcial_1_SyS_2024_2.ipynb\" target=\"_parent\"><img src=\"https://colab.research.google.com/assets/colab-badge.svg\" alt=\"Open In Colab\"/></a>"
      ]
    },
    {
      "cell_type": "markdown",
      "source": [
        "# Parcial 1: Señales y Sistemas 2024-II\n",
        "\n",
        " ## Profesor: Andrés Marino Álvarez Meza, Ph.D.\n",
        "\n",
        "## Estudiante: Juan Carlos Salazar Moreno\n",
        "### CC 1060586070\n",
        "\n",
        "\n",
        "## Departamento de Ingeniería Eléctrica, Electrónica, y Computación\n",
        "## Universidad Nacional de Colombia - sede Manizales"
      ],
      "metadata": {
        "id": "1fWMHXCqNtQw"
      }
    },
    {
      "cell_type": "markdown",
      "source": [
        "# Pregunta 1 (valor 2.5 puntos)\n",
        "\n",
        "Cuál es la señal obtenida en tiempo discreto al utilizar un conversor análogo digital de 5 bits con frecuencia de muestreo de $5kHz$, entrada análoga de -3.3 a 3.3 [v], aplicado a la señal continua $x(t) = 0.3 \\cos(1000\\pi t-\\pi/4) +\n",
        "0.6 \\sin(2000\\pi t) + 0.1 \\cos(11000\\pi t-\\pi)$?. Realizar la simulación del proceso de digitalización incluyendo al menos 3 ciclos de la señal $x(t)$.\n",
        "\n",
        "En caso de que la digitalización no sea apropiada, diseñe e implemente un conversor adecuado para la señal estudiada. El convesor debe permitir configurar la cantidad de bits, rango de la entrada análoga y la frecuencia de muestreo, indicándole al usuario si dicha frecuencia es apropiada o no, y graficar la señal continua, discreta y digital."
      ],
      "metadata": {
        "id": "jmI0zzVMRLNx"
      }
    },
    {
      "cell_type": "markdown",
      "source": [
        "# **Desarrollo pregunta 1**\n",
        "\n",
        "**Primero definimos la señal continua $x(t)$ y luego la discretizamos**"
      ],
      "metadata": {
        "id": "BWBEdd7O7Yr0"
      }
    },
    {
      "cell_type": "code",
      "source": [
        "import numpy as np\n",
        "import matplotlib.pyplot as plt\n",
        "\n",
        "# Definimos la señal continua x(t)\n",
        "def x_t(t):\n",
        "    return 0.3 * np.cos(1000 * np.pi * t - np.pi / 4) + 0.6 * np.sin(2000 * np.pi * t) + 0.1 * np.cos(11000 * np.pi * t - np.pi)\n",
        "\n",
        "# Parámetros de simulación\n",
        "Fs = 5000  # Frecuencia de muestreo en Hz\n",
        "Ts = 1 / Fs  # Período de muestreo\n",
        "duration = 3 / 1000  # Duración para al menos 3 ciclos (ciclo más largo es 1ms)\n",
        "t_cont = np.linspace(0, duration, 10000)  # Tiempo continuo\n",
        "t_disc = np.arange(0, duration, Ts)  # Tiempo discreto (muestreo)\n",
        "\n",
        "# Señal continua y muestreada\n",
        "x_cont = x_t(t_cont)\n",
        "x_disc = x_t(t_disc)\n",
        "\n",
        "# Graficar las señales continua y muestreada\n",
        "plt.figure(figsize=(10, 6))\n",
        "plt.plot(t_cont, x_cont, label=\"Señal continua x(t)\")\n",
        "plt.stem(t_disc, x_disc, linefmt='r-', markerfmt='ro', basefmt=' ', label=\"Señal muestreada\")\n",
        "plt.xlabel(\"Tiempo [s]\")\n",
        "plt.ylabel(\"Amplitud\")\n",
        "plt.title(\"Señal continua y su muestreo\")\n",
        "plt.legend()\n",
        "plt.grid()\n",
        "plt.show()\n"
      ],
      "metadata": {
        "id": "-svVKO0P786i"
      },
      "execution_count": null,
      "outputs": []
    },
    {
      "cell_type": "markdown",
      "source": [
        "**Ahora cuantizamos la señal mustreada anteriormente**"
      ],
      "metadata": {
        "id": "0G0o8qAE8fj1"
      }
    },
    {
      "cell_type": "code",
      "source": [
        "# Cuantización con 5 bits\n",
        "bits = 5\n",
        "levels = 2**bits  # Número de niveles de cuantización\n",
        "V_min, V_max = -3.3, 3.3  # Rango del ADC\n",
        "step_size = (V_max - V_min) / levels  # Tamaño del paso de cuantización\n",
        "\n",
        "# Función de cuantización\n",
        "def quantize(signal, V_min, V_max, step_size):\n",
        "    quantized_signal = np.round((signal - V_min) / step_size) * step_size + V_min\n",
        "    quantized_signal = np.clip(quantized_signal, V_min, V_max)  # Limitar al rango del ADC\n",
        "    return quantized_signal\n",
        "\n",
        "# Señal cuantizada\n",
        "x_quant = quantize(x_disc, V_min, V_max, step_size)\n",
        "\n",
        "# Graficar la señal cuantizada\n",
        "plt.figure(figsize=(10, 6))\n",
        "plt.stem(t_disc, x_disc, linefmt='b-', markerfmt='bo', basefmt=' ', label=\"Señal muestreada\")\n",
        "plt.stem(t_disc, x_quant, linefmt='r-', markerfmt='ro', basefmt=' ', label=\"Señal cuantizada\")\n",
        "plt.xlabel(\"Tiempo [s]\")\n",
        "plt.ylabel(\"Amplitud\")\n",
        "plt.title(\"Señal muestreada y cuantizada\")\n",
        "plt.legend()\n",
        "plt.grid()\n",
        "plt.show()\n"
      ],
      "metadata": {
        "id": "iJrVh-fZ8nYJ"
      },
      "execution_count": null,
      "outputs": []
    },
    {
      "cell_type": "markdown",
      "source": [
        "**Como tercer paso debemos verificar is el muestreo es adecuado por medio del Teorrema de Nyquist. Si la frecuencia de la señal más alta $(11 kHz)$ es mayor que $F_s /2 = 2.5kHz$, el muestreo srá inapropiado.**"
      ],
      "metadata": {
        "id": "iP8yUCA4CsB5"
      }
    },
    {
      "cell_type": "code",
      "source": [
        "# Frecuencia máxima en la señal continua\n",
        "f_max = 11000 / 2  # Frecuencia de la señal más alta\n",
        "\n",
        "if Fs / 2 < f_max:\n",
        "    print(f\"La frecuencia de muestreo Fs={Fs} Hz NO es adecuada. F_max={f_max} Hz excede Fs/2={Fs/2} Hz.\")\n",
        "else:\n",
        "    print(f\"La frecuencia de muestreo Fs={Fs} Hz es adecuada.\")\n"
      ],
      "metadata": {
        "id": "tGSA5XXmDZOt"
      },
      "execution_count": null,
      "outputs": []
    },
    {
      "cell_type": "markdown",
      "source": [
        "**Como el muestreo no cumple Nyquist, diseñaremos un conversor análogo digital configurable**"
      ],
      "metadata": {
        "id": "ZWv8OcFmDjhM"
      }
    },
    {
      "cell_type": "code",
      "source": [
        "# ADC configurable\n",
        "class ADC:\n",
        "    def __init__(self, bits=5, V_min=-3.3, V_max=3.3, Fs=5000):\n",
        "        self.bits = bits\n",
        "        self.V_min = V_min\n",
        "        self.V_max = V_max\n",
        "        self.Fs = Fs\n",
        "        self.step_size = (V_max - V_min) / (2**bits)\n",
        "\n",
        "    def quantize(self, signal):\n",
        "        \"\"\"Cuantiza la señal.\"\"\"\n",
        "        quantized_signal = np.round((signal - self.V_min) / self.step_size) * self.step_size + self.V_min\n",
        "        return np.clip(quantized_signal, self.V_min, self.V_max)\n",
        "\n",
        "    def is_sampling_adequate(self, f_max):\n",
        "        \"\"\"Verifica el teorema de Nyquist.\"\"\"\n",
        "        return self.Fs / 2 >= f_max\n",
        "\n",
        "    def process_signal(self, signal_func, duration, f_max):\n",
        "        \"\"\"Procesa la señal: continuo, muestreo y digitalización.\"\"\"\n",
        "        # Tiempo continuo y discreto\n",
        "        t_cont = np.linspace(0, duration, 10000)\n",
        "        t_disc = np.arange(0, duration, 1 / self.Fs)\n",
        "\n",
        "        # Señales continua y muestreada\n",
        "        x_cont = signal_func(t_cont)\n",
        "        x_disc = signal_func(t_disc)\n",
        "\n",
        "        # Señal cuantizada\n",
        "        x_quant = self.quantize(x_disc)\n",
        "\n",
        "        # Verificación del muestreo\n",
        "        adequate = self.is_sampling_adequate(f_max)\n",
        "\n",
        "        return t_cont, x_cont, t_disc, x_disc, x_quant, adequate\n",
        "\n",
        "# Configuración inicial\n",
        "bits = 5\n",
        "V_min, V_max = -3.3, 3.3\n",
        "Fs = 5000\n",
        "f_max = 11000 / 2  # Frecuencia máxima de la señal\n",
        "\n",
        "# Crear instancia del ADC\n",
        "adc = ADC(bits=bits, V_min=V_min, V_max=V_max, Fs=Fs)\n",
        "\n",
        "# Duración: al menos 3 ciclos de la señal de menor frecuencia\n",
        "duration = 3 / 1000  # Ciclo más largo es 1 ms\n",
        "\n",
        "# Procesar la señal\n",
        "t_cont, x_cont, t_disc, x_disc, x_quant, adequate = adc.process_signal(x_t, duration, f_max)\n",
        "\n",
        "# Graficar resultados\n",
        "plt.figure(figsize=(12, 8))\n",
        "\n",
        "# Señal continua\n",
        "plt.subplot(3, 1, 1)\n",
        "plt.plot(t_cont, x_cont, label=\"Señal continua x(t)\")\n",
        "plt.title(\"Señal continua\")\n",
        "plt.xlabel(\"Tiempo [s]\")\n",
        "plt.ylabel(\"Amplitud\")\n",
        "plt.grid()\n",
        "plt.legend()\n",
        "\n",
        "# Señal muestreada\n",
        "plt.subplot(3, 1, 2)\n",
        "plt.stem(t_disc, x_disc, linefmt='g-', markerfmt='go', basefmt=' ', label=\"Señal muestreada\")\n",
        "plt.title(\"Señal muestreada\")\n",
        "plt.xlabel(\"Tiempo [s]\")\n",
        "plt.ylabel(\"Amplitud\")\n",
        "plt.grid()\n",
        "plt.legend()\n",
        "\n",
        "# Señal digitalizada\n",
        "plt.subplot(3, 1, 3)\n",
        "plt.stem(t_disc, x_quant, linefmt='r-', markerfmt='ro', basefmt=' ', label=\"Señal digitalizada\")\n",
        "plt.title(\"Señal digitalizada\")\n",
        "plt.xlabel(\"Tiempo [s]\")\n",
        "plt.ylabel(\"Amplitud\")\n",
        "plt.grid()\n",
        "plt.legend()\n",
        "\n",
        "plt.tight_layout()\n",
        "plt.show()\n",
        "\n",
        "# Resultado de la evaluación\n",
        "if adequate:\n",
        "    print(f\"La frecuencia de muestreo Fs={Fs} Hz es adecuada según el teorema de Nyquist.\")\n",
        "else:\n",
        "    print(f\"La frecuencia de muestreo Fs={Fs} Hz NO es adecuada. Se requiere Fs > {2 * f_max} Hz.\")\n"
      ],
      "metadata": {
        "id": "jnoRWjgiD_QA"
      },
      "execution_count": null,
      "outputs": []
    },
    {
      "cell_type": "markdown",
      "source": [
        "# Pregunta 2 (valor 2.5 puntos)\n",
        "\n",
        "Se dispone de un sistema modelado como una \"caja negra\" (ver celdas de código). Su tarea es analizar y comprobar mediante simulaciones si el sistema cumple con las propiedades de linealidad e invariancia en el tiempo. En caso de que el sistema sea lineal e invariante con el tiempo, determine su respuesta al impulso y utilice esta respuesta para calcular la salida del sistema ante la siguiente señal:\n",
        "\n",
        "$x[n] = \\sin[100 \\pi n ] + \\sin[600 \\pi n]$"
      ],
      "metadata": {
        "id": "5Za-WbLpSele"
      }
    },
    {
      "cell_type": "code",
      "source": [
        "# cargar sistema\n",
        "FILEID = \"1J9rhh0wWHZSBd8XmWGt1ZpCsMDuoUFmm\"\n",
        "!wget --load-cookies /tmp/cookies.txt \"https://docs.google.com/uc?export=download&confirm=$(wget --quiet --save-cookies /tmp/cookies.txt --keep-session-cookies --no-check-certificate 'https://docs.google.com/uc?export=download&id='$FILEID -O- | sed -rn 's/.*confirm=([0-9A-Za-z_]+).*/\\1\\n/p')&id=\"$FILEID -O P1_model.zip && rm -rf /tmp/cookies.txt\n",
        "!unzip -o P1_model.zip\n",
        "!dir"
      ],
      "metadata": {
        "id": "6yJMMFK6zo5K"
      },
      "execution_count": null,
      "outputs": []
    },
    {
      "cell_type": "code",
      "source": [
        "import numpy as np\n",
        "import matplotlib.pyplot as plt\n",
        "import joblib\n",
        "from P1_model import system_\n",
        "from scipy.signal import firwin, freqz, lfilter, filtfilt\n",
        "\n",
        "#sistema pregunta 2\n",
        "my_system = system_.My_System()\n",
        "my_system.create_()\n",
        "fs = my_system.fs #frecuencia de muestreo\n",
        "t = np.arange(-0.01, 0.02, 1/fs)  # Tiempo\n",
        "signal_u = np.heaviside(t,1) # función heaviside\n",
        "y_u = my_system.predict(signal_u)\n",
        "\n",
        "\n",
        "# Visualización de las señales\n",
        "fig, axs = plt.subplots(2,1)\n",
        "axs[0].stem(t, signal_u, label='Señal de entrada')\n",
        "axs[0].set_xlabel('Tiempo (s)')\n",
        "axs[0].set_ylabel('Amplitud')\n",
        "axs[0].legend()\n",
        "axs[0].grid()\n",
        "axs[1].stem(t,y_u, label='Señal salida')\n",
        "axs[1].set_xlabel('Tiempo (s)')\n",
        "axs[1].set_ylabel('Amplitud')\n",
        "axs[1].legend()\n",
        "axs[1].grid()\n",
        "plt.tight_layout()\n",
        "plt.show()"
      ],
      "metadata": {
        "id": "nUX7Vr1fTUYW"
      },
      "execution_count": null,
      "outputs": []
    },
    {
      "cell_type": "markdown",
      "source": [
        "#**Desarrollo pregunta 2**"
      ],
      "metadata": {
        "id": "MZKruNtBV7Xv"
      }
    },
    {
      "cell_type": "markdown",
      "source": [
        "Para resolver el ejercicio debemos tener en cuenta los siguientes puntos:\n",
        "1. Analizar si el **sistema es lineal**: Debe cumplir la **aditividad** (la salida de la suma de dos entradas es igual a la suma de las salidas).La función **$np.allclose()$** es adecuada para comprobar si las salidas son prácticamente iguales, considerando errores numéricos.\n",
        "\n",
        "2. Analizar la **invarianza en el tiempo**: Si se cumple que un desplazamiento en la entrada provoca el mismo desplazamiento en la salida.\n",
        "\n",
        "3. Si se trata de un SLIT, su respuesta al impulso $h[n]$ puede determinarse. Luego, usando la convolución,por medio de la función **$lfilter()$** podemos encontrar la salida para $x[n]$"
      ],
      "metadata": {
        "id": "szsKCR5BhelP"
      }
    },
    {
      "cell_type": "code",
      "source": [
        "import numpy as np\n",
        "import matplotlib.pyplot as plt\n",
        "import joblib\n",
        "from P1_model import system_  # Asegúrate de tener el módulo P1_model disponible\n",
        "from scipy.signal import lfilter\n",
        "\n",
        "# Cargar el sistema\n",
        "my_system = system_.My_System()\n",
        "my_system.create_()\n",
        "fs = my_system.fs  # Frecuencia de muestreo\n",
        "\n",
        "# 1. ANÁLISIS DE LINEALIDAD\n",
        "\n",
        "# Generar dos señales de entrada\n",
        "n = np.arange(-50, 51)  # Definir el rango de n para las señales\n",
        "x1 = np.sin( np.pi * n)\n",
        "x2 = np.sin( np.pi * n)\n",
        "\n",
        "# Obtener las salidas para x1 y x2\n",
        "y1 = my_system.predict(x1)\n",
        "y2 = my_system.predict(x2)\n",
        "y_sum = my_system.predict(x1 + x2)\n",
        "\n",
        "# Verificar la propiedad de linealidad\n",
        "if np.allclose(y1 + y2, y_sum):\n",
        "    print(\"El sistema es lineal.\")\n",
        "else:\n",
        "    print(\"El sistema NO es lineal.\")\n",
        "\n",
        "# Análisis de invarianza en el tiempo\n",
        "shift = 5  # Desplazamiento arbitrario\n",
        "x_shifted = np.sin(100 * np.pi * (n - shift))\n",
        "y_shifted = my_system.predict(x_shifted)\n",
        "y_direct = my_system.predict(np.sin(100 * np.pi * n))\n",
        "\n",
        "if np.allclose(y_shifted, y_direct):\n",
        "    print(\"El sistema es invariante en el tiempo.\")\n",
        "else:\n",
        "    print(\"El sistema NO es invariante en el tiempo.\")\n",
        "\n",
        "# 2. OBTENER LA RESPUESTA AL IMPULSO\n",
        "delta = np.zeros_like(n)\n",
        "delta[len(n)//2] = 1  # Impulso unitario en el centro\n",
        "h = my_system.predict(delta)\n",
        "\n",
        "# 3. SIMULAR LA SEÑAL DADA: x[n] = sin(100πn) + sin(600πn)\n",
        "x = np.sin(100 * np.pi * n) + np.sin(600 * np.pi * n)\n",
        "y = lfilter(h, 1, x)\n",
        "\n",
        "# Visualización de las señales\n",
        "fig, axs = plt.subplots(3, 1, figsize=(10, 8))\n",
        "\n",
        "axs[0].stem(n, x, label='Señal de entrada x[n]')\n",
        "axs[0].set_xlabel('n')\n",
        "axs[0].set_ylabel('Amplitud')\n",
        "axs[0].legend()\n",
        "axs[0].grid()\n",
        "\n",
        "axs[1].stem(n, h, label='Respuesta al impulso h[n]')\n",
        "axs[1].set_xlabel('n')\n",
        "axs[1].set_ylabel('Amplitud')\n",
        "axs[1].legend()\n",
        "axs[1].grid()\n",
        "\n",
        "axs[2].stem(n, y, label='Señal de salida y[n]')\n",
        "axs[2].set_xlabel('n')\n",
        "axs[2].set_ylabel('Amplitud')\n",
        "axs[2].legend()\n",
        "axs[2].grid()\n",
        "\n",
        "plt.tight_layout()\n",
        "plt.show()\n"
      ],
      "metadata": {
        "id": "AluCIQiN3f9j"
      },
      "execution_count": null,
      "outputs": []
    },
    {
      "cell_type": "markdown",
      "source": [
        "##**AYUDAS DE INTELIGENCIA ARTIFICIAL**\n",
        "\n",
        "####Se implementó inteligencia artificial (ChatGPT) para aclarar algunas dudas y poder tener una guía al momento de resolver ambas preguntas.\n",
        "\n",
        "\n",
        "####**Instrucción en ChatGPT para la primera pregunta:** \"Desarrollar un código base que simule la digitalización de una señal continua usando un conversor análogo-digital con parámetros configurables como el número de bits, el rango de entrada y la frecuencia de muestreo. Además, debía incluir la verificación de si la frecuencia es adecuada y graficar la señal continua, discreta y digital.\"\n",
        "\n",
        "####**Instrucción en ChatGPT para la segunda pregunta:** \"Desarrollar una simulación para analizar las propiedades de linealidad e invariancia en el tiempo de un sistema modelado como \"caja negra\". Si el sistema es lineal e invariante, determinar su respuesta al impulso y usarla para calcular la salida del sistema ante una señal de entrada específica. Además, debía comprobar y graficar los resultados.\""
      ],
      "metadata": {
        "id": "KfAbLQMJ8urf"
      }
    }
  ]
}